{
 "cells": [
  {
   "cell_type": "code",
   "execution_count": null,
   "id": "bfc1bbef",
   "metadata": {},
   "outputs": [],
   "source": [
    "## chương trình hiển thị ngày trong tuần\n",
    "a = int(input(\"Nhập vào ngày: \"))\n",
    "if a == 1:\n",
    "    print(\"Đây là Thứ Hai\")\n",
    "elif a == 2:\n",
    "    print(\"Đây là Thứ Ba\")\n",
    "elif a == 3:\n",
    "    print(\"Đây là Thứ Tư\")\n",
    "elif a == 4:\n",
    "    print(\"Đây là Thứ Năm\")\n",
    "elif a == 5:\n",
    "    print(\"Đây là Thứ Sáu\")\n",
    "elif a == 6:\n",
    "    print(\"Đây là Thứ Bảy\")\n",
    "elif a == 7:\n",
    "    print(\"Đây là Chủ Nhật\")\n",
    "else:\n",
    "    print(\"Nhập sai cú pháp\")"
   ]
  }
 ],
 "metadata": {
  "kernelspec": {
   "display_name": "Python 3 (ipykernel)",
   "language": "python",
   "name": "python3"
  },
  "language_info": {
   "codemirror_mode": {
    "name": "ipython",
    "version": 3
   },
   "file_extension": ".py",
   "mimetype": "text/x-python",
   "name": "python",
   "nbconvert_exporter": "python",
   "pygments_lexer": "ipython3",
   "version": "3.10.5"
  }
 },
 "nbformat": 4,
 "nbformat_minor": 5
}
